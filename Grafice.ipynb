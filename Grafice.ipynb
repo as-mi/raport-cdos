{
 "cells": [
  {
   "cell_type": "markdown",
   "id": "incomplete-spanking",
   "metadata": {},
   "source": [
    "# Grafice raport CDOS\n",
    "\n",
    "Acest Jupyter Notebook permite generarea unor grafice pe baza răspunsurilor la chestionarul CDOS."
   ]
  },
  {
   "cell_type": "markdown",
   "id": "arctic-minute",
   "metadata": {},
   "source": [
    "## Import de biblioteci"
   ]
  },
  {
   "cell_type": "code",
   "execution_count": 1,
   "id": "raised-basin",
   "metadata": {},
   "outputs": [],
   "source": [
    "from pathlib import Path\n",
    "import re\n",
    "from textwrap import fill\n",
    "import string\n",
    "\n",
    "import pandas as pd\n",
    "import matplotlib.pyplot as plt\n",
    "from matplotlib import rcParams"
   ]
  },
  {
   "cell_type": "markdown",
   "id": "streaming-salem",
   "metadata": {},
   "source": [
    "## Configurare"
   ]
  },
  {
   "cell_type": "markdown",
   "id": "stuck-impression",
   "metadata": {},
   "source": [
    "### Configurare folder de input\n",
    "\n",
    "Fișierele Excel se vor citi din acest fișier."
   ]
  },
  {
   "cell_type": "code",
   "execution_count": 2,
   "id": "placed-yugoslavia",
   "metadata": {},
   "outputs": [],
   "source": [
    "input_directory = Path('.')"
   ]
  },
  {
   "cell_type": "markdown",
   "id": "respective-standing",
   "metadata": {},
   "source": [
    "### Configurare folder de output\n",
    "\n",
    "Toate graficele generate se vor salva în acest loc."
   ]
  },
  {
   "cell_type": "code",
   "execution_count": 3,
   "id": "better-stadium",
   "metadata": {},
   "outputs": [],
   "source": [
    "output_directory = Path('output')\n",
    "\n",
    "output_directory.mkdir(parents=True, exist_ok=True)"
   ]
  },
  {
   "cell_type": "markdown",
   "id": "fuzzy-immigration",
   "metadata": {},
   "source": [
    "### Configurare stilizare"
   ]
  },
  {
   "cell_type": "code",
   "execution_count": 4,
   "id": "legislative-block",
   "metadata": {},
   "outputs": [],
   "source": [
    "# Creștem densitatea în pixeli a figurilor generate\n",
    "rcParams['figure.dpi'] = 96\n",
    "\n",
    "# TODO: nu-mi dau seama de ce nu merge să schimbăm fontul\n",
    "# https://fonts.google.com/specimen/IBM+Plex+Sans?query=plex\n",
    "# rcParams['font.family'] = 'sans-serif'\n",
    "# rcParams['font.sans-serif'] = ['IBM Plex Sans']\n",
    "\n",
    "# Set the default style to be used in making graphics\n",
    "plt.style.use('default')"
   ]
  },
  {
   "cell_type": "markdown",
   "id": "seventh-competition",
   "metadata": {},
   "source": [
    "## Citire date"
   ]
  },
  {
   "cell_type": "code",
   "execution_count": 5,
   "id": "traditional-counter",
   "metadata": {},
   "outputs": [],
   "source": [
    "df = pd.read_excel(input_directory / 'CDOS Licență (Responses).xlsx', engine='openpyxl')"
   ]
  },
  {
   "cell_type": "markdown",
   "id": "tribal-effectiveness",
   "metadata": {},
   "source": [
    "## Definire funcții de prelucrare date"
   ]
  },
  {
   "cell_type": "code",
   "execution_count": 6,
   "id": "rapid-syria",
   "metadata": {},
   "outputs": [],
   "source": [
    "# Acest regex e folosit ca să elimine sufixul numeric\n",
    "# adăugat automat de `pandas` pe coloanele cu nume duplicat.\n",
    "#\n",
    "# Ex. dacă coloana inițială se numea \"test\", puteam avea\n",
    "# o coloană duplicată redenumită la \"test.13\".\n",
    "remove_column_suffix_regex = re.compile(r'\\.[0-9]+$')\n",
    "\n",
    "def convert_column_name_to_question(column):\n",
    "    \"\"\"Transformă numele unei coloane într-o întrebare,\n",
    "    așa cum apărea ea inițial în formular.\n",
    "    \"\"\"\n",
    "    return remove_column_suffix_regex.sub('', column)"
   ]
  },
  {
   "cell_type": "markdown",
   "id": "dated-barcelona",
   "metadata": {},
   "source": [
    "## Generare grafice"
   ]
  },
  {
   "cell_type": "markdown",
   "id": "absolute-phone",
   "metadata": {},
   "source": [
    "### Funcții comune"
   ]
  },
  {
   "cell_type": "code",
   "execution_count": 7,
   "id": "meaning-wedding",
   "metadata": {},
   "outputs": [],
   "source": [
    "def plot_question_title(ax: plt.Axes, answers: pd.Series) -> None:\n",
    "    \"Afișează întrebarea adresată respondenților ca titlul graficului.\"\n",
    "    question = convert_column_name_to_question(answers.name)\n",
    "    title = fill(question, 60)\n",
    "    ax.set_title(title)\n",
    "\n",
    "def plot_number_of_respondents(ax: plt.Axes, answers: pd.Series) -> None:\n",
    "    \"Afișează numărul de respondenți la o întrebare în partea de jos a graficului.\"\n",
    "    ax.text(0, -1.3,\n",
    "            f'{answers.count()} respondenți',\n",
    "            ha='center', va='center')\n",
    "    \n",
    "def col2index(col):\n",
    "    \"\"\"Convertește numele coloanei din Excel în indexul corespunzător.\"\"\"\n",
    "    num = 0\n",
    "    for c in col:\n",
    "        if c in string.ascii_letters:\n",
    "            num = num * 26 + (ord(c.upper()) - ord('A')) + 1\n",
    "    return num"
   ]
  },
  {
   "cell_type": "markdown",
   "id": "frequent-democracy",
   "metadata": {},
   "source": [
    "### Întrebări cu da sau nu"
   ]
  },
  {
   "cell_type": "code",
   "execution_count": null,
   "id": "returning-costume",
   "metadata": {},
   "outputs": [],
   "source": [
    "NO_ANSWER_VALUE = 'Nu știu / nu răspund'\n",
    "\n",
    "def plot_yes_no_question(ax: plt.Axes, answers: pd.Series) -> None:\n",
    "    \"\"\"Reprezintă grafic răspunsurile la o întrebare de tip da/nu,\n",
    "    sub formă de pie chart.\n",
    "    \"\"\"\n",
    "    # Înlocuiește răspunsurile goale cu o formulare standard\n",
    "    answers = answers.fillna(NO_ANSWER_VALUE)\n",
    "    \n",
    "    # Calculează vectorul de frecvență al răspunsurilor\n",
    "    counts = answers.value_counts()\n",
    "    \n",
    "    # Sortează tipurile de răspunsuri într-o ordine standard\n",
    "    counts = counts[['Da', 'Nu', NO_ANSWER_VALUE]]\n",
    "\n",
    "    plot_question_title(ax, answers)\n",
    "    plot_number_of_respondents(ax, answers)\n",
    "\n",
    "    # Afișez vectorul de frecvență ca un pie chart\n",
    "    counts.plot.pie(\n",
    "        ax=ax,\n",
    "        # pandas pune automat numele coloanei pe axa verticală,\n",
    "        # nu ne dorim asta\n",
    "        ylabel='',\n",
    "        colormap='plasma',\n",
    "        shadow=True,\n",
    "        # TODO: nu se prea vede bine textul generat automat\n",
    "        #autopct='%1.1f%%',\n",
    "        explode=(0, 0.2, 0))"
   ]
  },
  {
   "cell_type": "code",
   "execution_count": null,
   "id": "marine-worth",
   "metadata": {},
   "outputs": [],
   "source": [
    "answers = df.iloc[:, -6]\n",
    "\n",
    "fig = plt.figure()\n",
    "ax = fig.gca()\n",
    "plot_yes_no_question(ax, answers)\n",
    "plt.show()"
   ]
  },
  {
   "cell_type": "markdown",
   "id": "confidential-accreditation",
   "metadata": {},
   "source": [
    "### Întrebări cu rating de la 1 la 5"
   ]
  },
  {
   "cell_type": "code",
   "execution_count": null,
   "id": "bizarre-prompt",
   "metadata": {},
   "outputs": [],
   "source": [
    "def plot_rating_question(ax: plt.Axes, answers: pd.Series) -> None:    \n",
    "    # Calculează vectorul de frecvență al răspunsurilor\n",
    "    counts = answers.value_counts()\n",
    "    \n",
    "    counts = counts.sort_index()\n",
    "\n",
    "    plot_question_title(ax, answers)\n",
    "    # TODO: nu arată bine\n",
    "    #plot_number_of_respondents(ax, answers)\n",
    "\n",
    "    counts.plot.bar(ax=ax)\n",
    "    \n",
    "    # Afișează vertical valorile pe axa X\n",
    "    ax.tick_params(axis='x', rotation=0)"
   ]
  },
  {
   "cell_type": "code",
   "execution_count": null,
   "id": "amended-sender",
   "metadata": {},
   "outputs": [],
   "source": [
    "answers = df.iloc[:, 283]\n",
    "\n",
    "fig = plt.figure()\n",
    "ax = fig.gca()\n",
    "plot_rating_question(ax, answers)\n",
    "plt.show()"
   ]
  },
  {
   "cell_type": "markdown",
   "id": "floating-medication",
   "metadata": {},
   "source": [
    "### Întrebări cu răspuns multiplu"
   ]
  },
  {
   "cell_type": "code",
   "execution_count": null,
   "id": "medium-benefit",
   "metadata": {},
   "outputs": [],
   "source": [
    "def plot_multiple_choice_question(ax: plt.Axes, answers: pd.Series) -> None:\n",
    "    # Ignor răspunsurile goale\n",
    "    answers = answers.dropna()\n",
    "\n",
    "    # Dacă nu mai rămâne nimic, continui\n",
    "    if answers.empty:\n",
    "        return\n",
    "\n",
    "    # Sparg coloana cu răspunsurile (un șir de alegeri separate prin virgulă)\n",
    "    # în mai multe coloane.\n",
    "    #\n",
    "    # Bazat pe https://stackoverflow.com/a/46856366/5723188\n",
    "    separated_answers = answers.str.split(',', expand=True)\n",
    "\n",
    "    # Determin frecvența cu care apare pe fiecare nouă coloană fiecare răspuns.\n",
    "    #\n",
    "    # Bazat pe https://stackoverflow.com/a/32589877/5723188\n",
    "    counts = separated_answers.apply(pd.Series.value_counts)\n",
    "\n",
    "    # Determin per total cât de frecvent a apărut fiecare răspuns la această întrebare.\n",
    "    counts = counts.sum(axis=1)\n",
    "\n",
    "    # Sortez după numărul de apariții\n",
    "    counts = counts.sort_values()\n",
    "\n",
    "    plot_question_title(ax, answers)\n",
    "    # TODO: nu se poziționează cum trebuie\n",
    "    #plot_number_of_respondents(ax, answers, 4, -2.5)\n",
    "    counts.plot.barh(ax=ax)"
   ]
  },
  {
   "cell_type": "code",
   "execution_count": null,
   "id": "level-vector",
   "metadata": {},
   "outputs": [],
   "source": [
    "answers = df.iloc[:, 49]\n",
    "\n",
    "fig = plt.figure()\n",
    "ax = fig.gca()\n",
    "plot_multiple_choice_question(ax, answers)\n",
    "plt.show()"
   ]
  },
  {
   "cell_type": "markdown",
   "id": "invalid-possibility",
   "metadata": {},
   "source": [
    "## Întrebări pe specializări"
   ]
  },
  {
   "cell_type": "markdown",
   "id": "recorded-albania",
   "metadata": {},
   "source": [
    "### Mapare indici coloane\n",
    "\n",
    "Studenții aleg inițial anul și specializarea lor. În funcție de acestea, sunt redirecționați la secțiuni diferite din formular.\n",
    "\n",
    "Acest bloc de cod definește numărul coloanei de la care încep coloanele corespunzătoare fiecărei specializări.\n",
    "\n",
    "Link util pentru conversia de la coloană Excel în indice: https://www.vishalon.net/blog/excel-column-letter-to-number-quick-reference"
   ]
  },
  {
   "cell_type": "code",
   "execution_count": null,
   "id": "apparent-smell",
   "metadata": {},
   "outputs": [],
   "source": [
    "# Dictionary mapping each (year, specialization) pair to a column number in the Excel\n",
    "offset_map = {\n",
    "    'I': {\n",
    "        'Informatică - seria 13': 5,\n",
    "        'Informatică - seria 14': 5,\n",
    "        'Informatică - seria 15': 5,\n",
    "        'Matematică - seria 10': 49,\n",
    "        'Matematică - seria 11': 49,\n",
    "        'Calculatoare și tehnologia informației': 153,\n",
    "    },\n",
    "    'II': {\n",
    "        'Informatică - seria 23': 19,\n",
    "        'Informatică - seria 24': 19,\n",
    "        'Matematici Aplicate': 124,\n",
    "        'Matematică': 64,\n",
    "        'Matematică - Informatică': 94,\n",
    "        'Calculatoare și Tehnologia Informației': 167,\n",
    "    },\n",
    "    'III': {\n",
    "        'Informatică - seria 33': 33,\n",
    "        'Informatică - seria 34': 33,\n",
    "        'Matematici Aplicate': 138,\n",
    "        'Matematică - Informatică': 108,\n",
    "        'Calculatoare și Tehnologia Informației': 181,\n",
    "    },\n",
    "    'IV': {\n",
    "        'Calculatoare și Tehnologia Informației': 195        \n",
    "    }\n",
    "}"
   ]
  },
  {
   "cell_type": "markdown",
   "id": "intellectual-panel",
   "metadata": {},
   "source": [
    "### Generare grafice per an/specializare"
   ]
  },
  {
   "cell_type": "code",
   "execution_count": null,
   "id": "legislative-maldives",
   "metadata": {
    "scrolled": false
   },
   "outputs": [],
   "source": [
    "# Trebuie să luăm fiecare an de studiu pe rând\n",
    "for index, year in enumerate(('I', 'II', 'III', 'IV')):\n",
    "    # Filtrăm răspunsurile\n",
    "    df_year = df[df['Anul de studiu în 2020-2021'] == f'Anul {year}'].copy()\n",
    "\n",
    "    # Determinăm specializarea\n",
    "    if year == 'IV':\n",
    "        # Pentru anul 4 nu avem o coloană de \"Specializare\",\n",
    "        # pentru că singura posibilitate ar fi fost CTI.\n",
    "        #\n",
    "        # Așa că o adăugăm manual.\n",
    "        specialization_column_name = 'Specializare anul IV'\n",
    "        df_year[specialization_column_name] = 'Calculatoare și Tehnologia Informației'\n",
    "    else:\n",
    "        # Coloana care indică specializarea e diferită în funcție de an\n",
    "        specialization_column_index = 2 + index\n",
    "        specialization_column_name = df_year.columns[specialization_column_index]\n",
    "    \n",
    "    specialization = df_year[specialization_column_name]\n",
    "    \n",
    "    print('Anul', year, f'({len(df_year)} respondenți)')\n",
    "    \n",
    "    # Grupăm răspunsurile pe ani după specializare\n",
    "    for group_name, df_group in df_year.groupby(specialization):\n",
    "        print('-', group_name)\n",
    "        offset = offset_map[year][group_name]\n",
    "\n",
    "        # Determin directorul\n",
    "        directory_path = output_directory / f'Anul {year}' / group_name\n",
    "        # Îl creez dacă nu există\n",
    "        directory_path.mkdir(parents=True, exist_ok=True)\n",
    "\n",
    "        # Rezolv întrebările de tip selecție multiplă\n",
    "        for i in list(range(3)) + list(range(4, 8)) + [9]:\n",
    "            index = offset + i\n",
    "\n",
    "            answers = df_group.iloc[:, index]\n",
    "\n",
    "            # Plotez graficul\n",
    "            fig = plt.figure()\n",
    "            ax = fig.gca()\n",
    "            plot_multiple_choice_question(ax, answers)\n",
    "            fig.savefig(directory_path / f'{i}.png', bbox_inches='tight')\n",
    "            plt.close(fig)"
   ]
  },
  {
   "cell_type": "code",
   "execution_count": null,
   "id": "meaningful-musical",
   "metadata": {},
   "outputs": [],
   "source": []
  }
 ],
 "metadata": {
  "kernelspec": {
   "display_name": "Python 3",
   "language": "python",
   "name": "python3"
  },
  "language_info": {
   "codemirror_mode": {
    "name": "ipython",
    "version": 3
   },
   "file_extension": ".py",
   "mimetype": "text/x-python",
   "name": "python",
   "nbconvert_exporter": "python",
   "pygments_lexer": "ipython3",
   "version": "3.8.8"
  }
 },
 "nbformat": 4,
 "nbformat_minor": 5
}
