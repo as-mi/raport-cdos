{
 "cells": [
  {
   "cell_type": "markdown",
   "id": "incomplete-spanking",
   "metadata": {},
   "source": [
    "# Grafice raport CDOS\n",
    "\n",
    "Acest Jupyter Notebook permite generarea unor grafice pe baza răspunsurilor la chestionarul CDOS."
   ]
  },
  {
   "cell_type": "markdown",
   "id": "arctic-minute",
   "metadata": {},
   "source": [
    "## Import de biblioteci"
   ]
  },
  {
   "cell_type": "code",
   "execution_count": null,
   "id": "raised-basin",
   "metadata": {},
   "outputs": [],
   "source": [
    "from pathlib import Path\n",
    "import re\n",
    "from textwrap import fill\n",
    "\n",
    "import pandas as pd\n",
    "import matplotlib.pyplot as plt\n",
    "from matplotlib import rcParams"
   ]
  },
  {
   "cell_type": "markdown",
   "id": "respective-standing",
   "metadata": {},
   "source": [
    "## Configurare folder de output\n",
    "\n",
    "Toate graficele generate se vor salva în acest loc."
   ]
  },
  {
   "cell_type": "code",
   "execution_count": null,
   "id": "better-stadium",
   "metadata": {},
   "outputs": [],
   "source": [
    "output_dir = Path('./output/')\n",
    "output_dir.mkdir(parents=True, exist_ok=True)"
   ]
  },
  {
   "cell_type": "markdown",
   "id": "fuzzy-immigration",
   "metadata": {},
   "source": [
    "## Configurare stilizare"
   ]
  },
  {
   "cell_type": "code",
   "execution_count": null,
   "id": "legislative-block",
   "metadata": {},
   "outputs": [],
   "source": [
    "# Creștem densitatea în pixeli a figurilor generate\n",
    "rcParams['figure.dpi'] = 96\n",
    "\n",
    "# TODO: nu-mi dau seama de ce nu merge să schimbăm fontul\n",
    "# https://fonts.google.com/specimen/IBM+Plex+Sans?query=plex\n",
    "# rcParams['font.family'] = 'sans-serif'\n",
    "# rcParams['font.sans-serif'] = ['IBM Plex Sans']\n",
    "\n",
    "# Set the default style to be used in making graphics\n",
    "plt.style.use('default')"
   ]
  },
  {
   "cell_type": "markdown",
   "id": "seventh-competition",
   "metadata": {},
   "source": [
    "## Citire date"
   ]
  },
  {
   "cell_type": "code",
   "execution_count": null,
   "id": "traditional-counter",
   "metadata": {},
   "outputs": [],
   "source": [
    "df = pd.read_excel('./CDOS Licență (Responses).xlsx', engine='openpyxl')"
   ]
  },
  {
   "cell_type": "markdown",
   "id": "dated-barcelona",
   "metadata": {},
   "source": [
    "## Generare grafice"
   ]
  },
  {
   "cell_type": "markdown",
   "id": "recorded-albania",
   "metadata": {},
   "source": [
    "### Mapare indici coloane\n",
    "\n",
    "Studenții aleg inițial anul și specializarea lor. În funcție de acestea, sunt redirecționați la secțiuni diferite din formular.\n",
    "\n",
    "Acest bloc de cod definește numărul coloanei de la care încep coloanele corespunzătoare fiecărei specializări."
   ]
  },
  {
   "cell_type": "code",
   "execution_count": null,
   "id": "apparent-smell",
   "metadata": {},
   "outputs": [],
   "source": [
    "# Dictionary mapping each (year, specialization) pair to a column number in the Excel\n",
    "offset_map = {\n",
    "    'I': {\n",
    "        'Informatică - seria 13': 5,\n",
    "        'Informatică - seria 14': 5,\n",
    "        'Informatică - seria 15': 5,\n",
    "        'Matematică - seria 10': 49,\n",
    "        'Matematică - seria 11': 49,\n",
    "        'Calculatoare și tehnologia informației': 153,\n",
    "    },\n",
    "    'II': {\n",
    "        'Informatică - seria 23': 19,\n",
    "        'Informatică - seria 24': 19,\n",
    "        'Matematici Aplicate': 124,\n",
    "        'Matematică': 64,\n",
    "        'Matematică - Informatică': 94,\n",
    "        'Calculatoare și Tehnologia Informației': 167,\n",
    "    },\n",
    "    'III': {\n",
    "        'Informatică - seria 33': 33,\n",
    "        'Informatică - seria 34': 33,\n",
    "        'Matematici Aplicate': 138,\n",
    "        'Matematică - Informatică': 108,\n",
    "        'Calculatoare și Tehnologia Informației': 181,\n",
    "    },\n",
    "    'IV': {\n",
    "        'Calculatoare și Tehnologia Informației': 195        \n",
    "    }\n",
    "}"
   ]
  },
  {
   "cell_type": "markdown",
   "id": "invalid-possibility",
   "metadata": {},
   "source": [
    "### Întrebări pe specializări"
   ]
  },
  {
   "cell_type": "code",
   "execution_count": null,
   "id": "legislative-maldives",
   "metadata": {
    "scrolled": false
   },
   "outputs": [],
   "source": [
    "# Acest regex e folosit ca să elimine sufixul numeric\n",
    "# adăugat automat de pandas pe coloanele cu nume duplicat.\n",
    "#\n",
    "# Ex. dacă coloana inițială se numea \"test\", puteam avea\n",
    "# o coloană duplicată redenumită la \"test.13\".\n",
    "remove_column_suffix = re.compile(r'\\.[0-9]+$')\n",
    "\n",
    "# Trebuie să luăm fiecare an de studiu pe rând\n",
    "for index, year in enumerate(('I', 'II', 'III', 'IV')):\n",
    "    # Filtrăm răspunsurile\n",
    "    df_year = df[df['Anul de studiu în 2020-2021'] == f'Anul {year}'].copy()\n",
    "\n",
    "    # Determinăm specializarea\n",
    "    if year == 'IV':\n",
    "        # Pentru anul 4 nu avem o coloană de \"Specializare\",\n",
    "        # pentru că singura posibilitate ar fi fost CTI.\n",
    "        #\n",
    "        # Așa că o adăugăm manual.\n",
    "        specialization_column_name = 'Specializare anul IV'\n",
    "        df_year[specialization_column_name] = 'Calculatoare și Tehnologia Informației'\n",
    "    else:\n",
    "        # Coloana care indică specializarea e diferită în funcție de an\n",
    "        specialization_column_index = 2 + index\n",
    "        specialization_column_name = df_year.columns[specialization_column_index]\n",
    "    \n",
    "    specialization = df_year[specialization_column_name]\n",
    "    \n",
    "    print('Anul', year, f'({len(df_year)} respondenți)')\n",
    "    \n",
    "    # Grupăm răspunsurile pe ani după specializare\n",
    "    for group_name, df_group in df_year.groupby(specialization):\n",
    "        print('-', group_name)\n",
    "        offset = offset_map[year][group_name]\n",
    "        \n",
    "        # Determin directorul\n",
    "        directory_path = output_dir / f'Anul {year}' / group_name\n",
    "        directory_path.mkdir(parents=True, exist_ok=True)\n",
    "\n",
    "        for i in range(3):\n",
    "            index = offset + i\n",
    "\n",
    "            column_name = df_group.columns[index]\n",
    "            values = df_group[column_name]\n",
    "            \n",
    "            # Sparg coloana de top 3 materii (un șir de alegeri separate prin virgulă)\n",
    "            # în 3 coloane distincte.\n",
    "            #\n",
    "            # Bazat pe https://stackoverflow.com/a/46856366/5723188\n",
    "            values = values.str.split(',', expand=True)\n",
    "            \n",
    "            # Determin frecvența cu care apare pe fiecare nouă coloană fiecare materie.\n",
    "            #\n",
    "            # Bazat pe https://stackoverflow.com/a/32589877/5723188\n",
    "            values = values.apply(pd.Series.value_counts)\n",
    "            \n",
    "            # Determin per total cât de frecvent a apărut fiecare materie la această întrebare.\n",
    "            values = values.sum(axis=1)\n",
    "            \n",
    "            # Sortez după numărul de apariții\n",
    "            values = values.sort_values()\n",
    "\n",
    "            # Plotez graficul\n",
    "            plt.figure()\n",
    "            question = remove_column_suffix.sub('', column_name)\n",
    "            plt.suptitle(question)\n",
    "            values.plot.barh()\n",
    "            plt.savefig(directory_path / f'{i}.png', bbox_inches='tight')\n",
    "            plt.close()"
   ]
  },
  {
   "cell_type": "markdown",
   "id": "frequent-democracy",
   "metadata": {},
   "source": [
    "## Pie chart"
   ]
  },
  {
   "cell_type": "code",
   "execution_count": null,
   "id": "marine-worth",
   "metadata": {},
   "outputs": [],
   "source": [
    "column = df.columns[-6]\n",
    "answers = df[column]\n",
    "answers = answers.fillna('Nu știu')\n",
    "\n",
    "counts = answers.value_counts(dropna=False)\n",
    "\n",
    "counts = counts[['Da', 'Nu', 'Nu știu']]\n",
    "\n",
    "counts.plot.pie(colormap='plasma', ylabel='', shadow=True,\n",
    "                # TODO: nu se prea vede bine textul generat automat\n",
    "                #autopct='%1.1f%%',\n",
    "                explode=(0, 0.2, 0))\n",
    "plt.suptitle(fill(column, 60))\n",
    "plt.text(0, -1.3, f'{answers.count()} respondenți', ha='center', va='center')\n",
    "plt.show()"
   ]
  }
 ],
 "metadata": {
  "kernelspec": {
   "display_name": "Python 3",
   "language": "python",
   "name": "python3"
  },
  "language_info": {
   "codemirror_mode": {
    "name": "ipython",
    "version": 3
   },
   "file_extension": ".py",
   "mimetype": "text/x-python",
   "name": "python",
   "nbconvert_exporter": "python",
   "pygments_lexer": "ipython3",
   "version": "3.9.5"
  }
 },
 "nbformat": 4,
 "nbformat_minor": 5
}
